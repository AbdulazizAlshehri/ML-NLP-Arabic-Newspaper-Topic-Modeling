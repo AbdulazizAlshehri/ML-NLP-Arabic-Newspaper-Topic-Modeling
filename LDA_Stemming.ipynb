{
 "cells": [
  {
   "cell_type": "markdown",
   "id": "b223c702",
   "metadata": {},
   "source": [
    "# <center>NLP: Topic Modeling for Riyadh Newspaper Articles</center>\n"
   ]
  },
  {
   "cell_type": "markdown",
   "id": "dcd4d50f",
   "metadata": {},
   "source": [
    "\n",
    "**DATA**: We are planning to use our previously **scraped** data from the Riyadh Newspaper website **in Arabic**, ~3GB, plus some additional data (MetaData) that could add a meaningful sense to our project, see [Riyadh Newspaper website](http://www.alriyadh.com/1814297) to understand how we scraped the data.\n",
    "\n",
    "**EXPECTED OUTPUT**: At the end of this project we expect to be done NLP **Topic Modeling** on Riyadh Newspaper articles, and all it's required preproccesing steps in addition to approperiate visualization.\n",
    "\n",
    "**BONUS TASKS**: \n",
    "- Scraping ~3GB Data. \n",
    "- Using SQL Database for data storage. \n",
    "- As a challenge, we used data written in Arabic."
   ]
  },
  {
   "cell_type": "code",
   "execution_count": 1,
   "id": "7115b73b",
   "metadata": {},
   "outputs": [],
   "source": [
    "\n",
    "import pandas  as pd\n",
    "import numpy as np\n",
    "\n",
    "import pyodbc\n",
    "import unicodedata\n",
    "import re\n",
    "\n",
    "from nltk.stem.isri import ISRIStemmer\n",
    "from nltk.corpus import stopwords # pip install nltk \n",
    "# nltk.download('stopwords')\n",
    "\n",
    "# Gensim\n",
    "import gensim\n",
    "import gensim.corpora as corpora\n",
    "from gensim.utils import simple_preprocess\n",
    "from gensim.models import CoherenceModel\n",
    "\n",
    "# Enable logging for gensim - optional\n",
    "import logging\n",
    "logging.basicConfig(format='%(asctime)s : %(levelname)s : %(message)s', level=logging.ERROR)\n",
    "\n",
    "import warnings\n",
    "#warnings.filterwarnings(\"ignore\",category=DeprecationWarning)\n",
    "\n",
    "# visualization\n",
    "from pprint import pprint\n",
    "import matplotlib.pyplot as plt\n",
    "import seaborn as sns\n",
    "sns.set_style(\"whitegrid\")\n",
    "plt.style.context('fivethirtyeight');\n",
    "plt.rcParams[\"figure.figsize\"] = (12,4)\n",
    "plt.rcParams['figure.dpi'] = 150\n"
   ]
  },
  {
   "cell_type": "markdown",
   "id": "86b9d8f3",
   "metadata": {},
   "source": [
    "# 1. Data"
   ]
  },
  {
   "cell_type": "markdown",
   "id": "1cc2eedc",
   "metadata": {},
   "source": [
    "### 1.1. Reading from Database"
   ]
  },
  {
   "cell_type": "code",
   "execution_count": 2,
   "id": "57df7239",
   "metadata": {},
   "outputs": [],
   "source": [
    "# server=''\n",
    "# database = '' \n",
    "# username = '' \n",
    "# password = '' \n",
    "# cnxn = pyodbc.connect('DRIVER={SQL Server};SERVER='+server+';DATABASE='+database+';UID='+username+';PWD='+ password)\n",
    "# cursor = cnxn.cursor()"
   ]
  },
  {
   "cell_type": "code",
   "execution_count": 3,
   "id": "b29ed795",
   "metadata": {},
   "outputs": [],
   "source": [
    "# df = pd.read_sql(\"select * from articles\",cnxn)\n",
    "# df.to_csv(\"metadata.csv\", encoding='utf-8-sig')"
   ]
  },
  {
   "cell_type": "code",
   "execution_count": 4,
   "id": "8945d8f3",
   "metadata": {},
   "outputs": [],
   "source": [
    "# df= pd.read_sql(\"select * from texts\",cnxn)\n",
    "# df.to_csv(\"all_texts.csv\",encoding='utf-8-sig')"
   ]
  },
  {
   "cell_type": "markdown",
   "id": "61a64ca0",
   "metadata": {},
   "source": [
    "### 1.2. Texts Dataset"
   ]
  },
  {
   "cell_type": "code",
   "execution_count": 5,
   "id": "ce7d275c",
   "metadata": {},
   "outputs": [
    {
     "data": {
      "text/html": [
       "<div>\n",
       "<style scoped>\n",
       "    .dataframe tbody tr th:only-of-type {\n",
       "        vertical-align: middle;\n",
       "    }\n",
       "\n",
       "    .dataframe tbody tr th {\n",
       "        vertical-align: top;\n",
       "    }\n",
       "\n",
       "    .dataframe thead th {\n",
       "        text-align: right;\n",
       "    }\n",
       "</style>\n",
       "<table border=\"1\" class=\"dataframe\">\n",
       "  <thead>\n",
       "    <tr style=\"text-align: right;\">\n",
       "      <th></th>\n",
       "      <th>Unnamed: 0</th>\n",
       "      <th>T_ID</th>\n",
       "      <th>T_AID</th>\n",
       "      <th>T_Text</th>\n",
       "    </tr>\n",
       "  </thead>\n",
       "  <tbody>\n",
       "    <tr>\n",
       "      <th>0</th>\n",
       "      <td>0</td>\n",
       "      <td>87160</td>\n",
       "      <td>174309</td>\n",
       "      <td>\\nعلى الرغم من التحذيرات الشديدة والمتكررة الت...</td>\n",
       "    </tr>\n",
       "    <tr>\n",
       "      <th>1</th>\n",
       "      <td>1</td>\n",
       "      <td>87164</td>\n",
       "      <td>174317</td>\n",
       "      <td>\\nأدى محافظ ضمد عبدالله خالد البراق عقب صلاة ع...</td>\n",
       "    </tr>\n",
       "    <tr>\n",
       "      <th>2</th>\n",
       "      <td>2</td>\n",
       "      <td>87165</td>\n",
       "      <td>174319</td>\n",
       "      <td>\\nرفع رئيس مجلس إدارة الهيئة العامة للولاية عل...</td>\n",
       "    </tr>\n",
       "  </tbody>\n",
       "</table>\n",
       "</div>"
      ],
      "text/plain": [
       "   Unnamed: 0   T_ID   T_AID  \\\n",
       "0           0  87160  174309   \n",
       "1           1  87164  174317   \n",
       "2           2  87165  174319   \n",
       "\n",
       "                                              T_Text  \n",
       "0  \\nعلى الرغم من التحذيرات الشديدة والمتكررة الت...  \n",
       "1  \\nأدى محافظ ضمد عبدالله خالد البراق عقب صلاة ع...  \n",
       "2  \\nرفع رئيس مجلس إدارة الهيئة العامة للولاية عل...  "
      ]
     },
     "execution_count": 5,
     "metadata": {},
     "output_type": "execute_result"
    }
   ],
   "source": [
    "df_texts = pd.read_csv('../Data/all_texts.csv')\n",
    "df_texts.head(3)"
   ]
  },
  {
   "cell_type": "code",
   "execution_count": 6,
   "id": "c5bed188",
   "metadata": {},
   "outputs": [
    {
     "data": {
      "text/plain": [
       "(283762, 4)"
      ]
     },
     "execution_count": 6,
     "metadata": {},
     "output_type": "execute_result"
    }
   ],
   "source": [
    "df_texts.shape"
   ]
  },
  {
   "cell_type": "markdown",
   "id": "6bd969b0",
   "metadata": {},
   "source": [
    "### 1.3. Metadata  Dataset"
   ]
  },
  {
   "cell_type": "code",
   "execution_count": 7,
   "id": "ba37d716",
   "metadata": {},
   "outputs": [
    {
     "data": {
      "text/html": [
       "<div>\n",
       "<style scoped>\n",
       "    .dataframe tbody tr th:only-of-type {\n",
       "        vertical-align: middle;\n",
       "    }\n",
       "\n",
       "    .dataframe tbody tr th {\n",
       "        vertical-align: top;\n",
       "    }\n",
       "\n",
       "    .dataframe thead th {\n",
       "        text-align: right;\n",
       "    }\n",
       "</style>\n",
       "<table border=\"1\" class=\"dataframe\">\n",
       "  <thead>\n",
       "    <tr style=\"text-align: right;\">\n",
       "      <th></th>\n",
       "      <th>A_ID</th>\n",
       "      <th>A_Link</th>\n",
       "      <th>A_Cat</th>\n",
       "      <th>A_Title1</th>\n",
       "      <th>A_Title2</th>\n",
       "      <th>A_Words</th>\n",
       "    </tr>\n",
       "  </thead>\n",
       "  <tbody>\n",
       "    <tr>\n",
       "      <th>0</th>\n",
       "      <td>1</td>\n",
       "      <td>http://www.alriyadh.com/1814297</td>\n",
       "      <td>المحليات</td>\n",
       "      <td>إلى ما بعد اجتماع مجموعة أوبك بلس</td>\n",
       "      <td>السعودية تؤجل الإعلان عن أسعار الخام لشهر مايو</td>\n",
       "      <td>339</td>\n",
       "    </tr>\n",
       "    <tr>\n",
       "      <th>1</th>\n",
       "      <td>2</td>\n",
       "      <td>http://www.alriyadh.com/1814297</td>\n",
       "      <td>المحليات</td>\n",
       "      <td>إلى ما بعد اجتماع مجموعة أوبك بلس</td>\n",
       "      <td>السعودية تؤجل الإعلان عن أسعار الخام لشهر مايو</td>\n",
       "      <td>339</td>\n",
       "    </tr>\n",
       "    <tr>\n",
       "      <th>2</th>\n",
       "      <td>3</td>\n",
       "      <td>http://www.alriyadh.com/1814296</td>\n",
       "      <td>المحليات</td>\n",
       "      <td>NaN</td>\n",
       "      <td>تعليم وادي الدواسر يبدأ المرحلة الثانية من خطة...</td>\n",
       "      <td>183</td>\n",
       "    </tr>\n",
       "  </tbody>\n",
       "</table>\n",
       "</div>"
      ],
      "text/plain": [
       "   A_ID                           A_Link     A_Cat  \\\n",
       "0     1  http://www.alriyadh.com/1814297  المحليات   \n",
       "1     2  http://www.alriyadh.com/1814297  المحليات   \n",
       "2     3  http://www.alriyadh.com/1814296  المحليات   \n",
       "\n",
       "                            A_Title1  \\\n",
       "0  إلى ما بعد اجتماع مجموعة أوبك بلس   \n",
       "1  إلى ما بعد اجتماع مجموعة أوبك بلس   \n",
       "2                                NaN   \n",
       "\n",
       "                                            A_Title2  A_Words  \n",
       "0     السعودية تؤجل الإعلان عن أسعار الخام لشهر مايو      339  \n",
       "1     السعودية تؤجل الإعلان عن أسعار الخام لشهر مايو      339  \n",
       "2  تعليم وادي الدواسر يبدأ المرحلة الثانية من خطة...      183  "
      ]
     },
     "execution_count": 7,
     "metadata": {},
     "output_type": "execute_result"
    }
   ],
   "source": [
    "df_metadata = pd.read_csv('../Data/metadata.csv', usecols=['A_ID', 'A_Link', 'A_Cat', 'A_Title1', 'A_Title2', 'A_Words'])\n",
    "df_metadata.head(3)"
   ]
  },
  {
   "cell_type": "code",
   "execution_count": 8,
   "id": "d871d685",
   "metadata": {},
   "outputs": [
    {
     "data": {
      "text/plain": [
       "(567524, 6)"
      ]
     },
     "execution_count": 8,
     "metadata": {},
     "output_type": "execute_result"
    }
   ],
   "source": [
    "df_metadata.shape"
   ]
  },
  {
   "cell_type": "markdown",
   "id": "8aeb5e01",
   "metadata": {},
   "source": [
    "### 1.4. Merge  Datasets"
   ]
  },
  {
   "cell_type": "code",
   "execution_count": 9,
   "id": "51246925",
   "metadata": {},
   "outputs": [
    {
     "data": {
      "text/html": [
       "<div>\n",
       "<style scoped>\n",
       "    .dataframe tbody tr th:only-of-type {\n",
       "        vertical-align: middle;\n",
       "    }\n",
       "\n",
       "    .dataframe tbody tr th {\n",
       "        vertical-align: top;\n",
       "    }\n",
       "\n",
       "    .dataframe thead th {\n",
       "        text-align: right;\n",
       "    }\n",
       "</style>\n",
       "<table border=\"1\" class=\"dataframe\">\n",
       "  <thead>\n",
       "    <tr style=\"text-align: right;\">\n",
       "      <th></th>\n",
       "      <th>T_AID</th>\n",
       "      <th>A_Link</th>\n",
       "      <th>T_Text</th>\n",
       "      <th>A_Cat</th>\n",
       "      <th>A_Title1</th>\n",
       "      <th>A_Title2</th>\n",
       "      <th>A_Words</th>\n",
       "    </tr>\n",
       "  </thead>\n",
       "  <tbody>\n",
       "    <tr>\n",
       "      <th>0</th>\n",
       "      <td>174309</td>\n",
       "      <td>http://www.alriyadh.com/1718990</td>\n",
       "      <td>\\nعلى الرغم من التحذيرات الشديدة والمتكررة الت...</td>\n",
       "      <td>المحليات</td>\n",
       "      <td>متهورون يُلقون بمركباتهم في بطون الأودية الممت...</td>\n",
       "      <td>مغامرات السيول.. إلى متى؟</td>\n",
       "      <td>604</td>\n",
       "    </tr>\n",
       "    <tr>\n",
       "      <th>1</th>\n",
       "      <td>174317</td>\n",
       "      <td>http://www.alriyadh.com/1718986</td>\n",
       "      <td>\\nأدى محافظ ضمد عبدالله خالد البراق عقب صلاة ع...</td>\n",
       "      <td>المحليات</td>\n",
       "      <td>NaN</td>\n",
       "      <td>محافظ ضمد ينقل تعازي القيادة لذوي الشهيد معافا</td>\n",
       "      <td>139</td>\n",
       "    </tr>\n",
       "    <tr>\n",
       "      <th>2</th>\n",
       "      <td>174319</td>\n",
       "      <td>http://www.alriyadh.com/1718985</td>\n",
       "      <td>\\nرفع رئيس مجلس إدارة الهيئة العامة للولاية عل...</td>\n",
       "      <td>المحليات</td>\n",
       "      <td>NaN</td>\n",
       "      <td>أعضاء هيئة الولاية على أموال القاصرين: نقدر ال...</td>\n",
       "      <td>646</td>\n",
       "    </tr>\n",
       "  </tbody>\n",
       "</table>\n",
       "</div>"
      ],
      "text/plain": [
       "    T_AID                           A_Link  \\\n",
       "0  174309  http://www.alriyadh.com/1718990   \n",
       "1  174317  http://www.alriyadh.com/1718986   \n",
       "2  174319  http://www.alriyadh.com/1718985   \n",
       "\n",
       "                                              T_Text     A_Cat  \\\n",
       "0  \\nعلى الرغم من التحذيرات الشديدة والمتكررة الت...  المحليات   \n",
       "1  \\nأدى محافظ ضمد عبدالله خالد البراق عقب صلاة ع...  المحليات   \n",
       "2  \\nرفع رئيس مجلس إدارة الهيئة العامة للولاية عل...  المحليات   \n",
       "\n",
       "                                            A_Title1  \\\n",
       "0  متهورون يُلقون بمركباتهم في بطون الأودية الممت...   \n",
       "1                                                NaN   \n",
       "2                                                NaN   \n",
       "\n",
       "                                            A_Title2  A_Words  \n",
       "0                          مغامرات السيول.. إلى متى؟      604  \n",
       "1     محافظ ضمد ينقل تعازي القيادة لذوي الشهيد معافا      139  \n",
       "2  أعضاء هيئة الولاية على أموال القاصرين: نقدر ال...      646  "
      ]
     },
     "execution_count": 9,
     "metadata": {},
     "output_type": "execute_result"
    }
   ],
   "source": [
    "# Merging the text dataset and metadata dataset \n",
    "df = pd.merge(df_texts, df_metadata, how='inner', left_on='T_AID', right_on='A_ID')\n",
    "df = df[['T_AID', 'A_Link', 'T_Text', 'A_Cat', 'A_Title1', 'A_Title2', 'A_Words']]\n",
    "df.head(3)"
   ]
  },
  {
   "cell_type": "markdown",
   "id": "d5f43199",
   "metadata": {},
   "source": [
    "# 2. EDA"
   ]
  },
  {
   "cell_type": "markdown",
   "id": "86624130",
   "metadata": {},
   "source": [
    "### 2.1. Missing Values & Duplicates"
   ]
  },
  {
   "cell_type": "code",
   "execution_count": 10,
   "id": "4ffe8d41",
   "metadata": {},
   "outputs": [
    {
     "name": "stdout",
     "output_type": "stream",
     "text": [
      "Number of missing values is 6216\n",
      "Number of duplicated rows is 8121\n"
     ]
    }
   ],
   "source": [
    "# check\n",
    "print(f'Number of missing values is {df.T_Text.isna().sum()}\\nNumber of duplicated rows is {df.T_Text.duplicated().sum()}')"
   ]
  },
  {
   "cell_type": "code",
   "execution_count": 11,
   "id": "7dc9804e",
   "metadata": {},
   "outputs": [],
   "source": [
    "# drop\n",
    "df.dropna(subset=['T_Text'], inplace=True)\n",
    "df.drop_duplicates(subset=['T_Text'], inplace=True)\n",
    "df.reset_index(drop=True, inplace=True)"
   ]
  },
  {
   "cell_type": "markdown",
   "id": "a4e8c44f",
   "metadata": {},
   "source": [
    "### 2.2. Articles Lengths (Words)"
   ]
  },
  {
   "cell_type": "code",
   "execution_count": 12,
   "id": "83719422",
   "metadata": {},
   "outputs": [],
   "source": [
    "# example of USELESS SHORT ARTICLE\n",
    "# df[df['A_Words'] == 4].iloc[2]['T_Text']"
   ]
  },
  {
   "cell_type": "code",
   "execution_count": 13,
   "id": "753cfd61",
   "metadata": {},
   "outputs": [],
   "source": [
    "# example of USELESS LONG ARTICLE\n",
    "# df[df['A_Words'] == df['A_Words'].max()]['T_Text'][151767]"
   ]
  },
  {
   "cell_type": "code",
   "execution_count": 14,
   "id": "0e9b4749",
   "metadata": {},
   "outputs": [],
   "source": [
    "# plot article lengths function\n",
    "def plot_articles_lenghts():\n",
    "    sns.histplot(df['A_Words'], bins=70);\n",
    "    plt.show();"
   ]
  },
  {
   "cell_type": "code",
   "execution_count": null,
   "id": "f8b4803b",
   "metadata": {},
   "outputs": [],
   "source": []
  },
  {
   "cell_type": "code",
   "execution_count": 15,
   "id": "303d6682",
   "metadata": {},
   "outputs": [
    {
     "data": {
      "image/png": "[encoded data removed]",
      "text/plain": [
       "<Figure size 1800x600 with 1 Axes>"
      ]
     },
     "metadata": {},
     "output_type": "display_data"
    }
   ],
   "source": [
    "plot_articles_lenghts()"
   ]
  },
  {
   "cell_type": "code",
   "execution_count": 16,
   "id": "f869279e",
   "metadata": {},
   "outputs": [],
   "source": [
    "# removing useless articles i.e. very (long/short) texts\n",
    "df = df[((df['A_Words'] >= 150) & (df['A_Words'] <= 500))].copy()\n",
    "df.reset_index(drop=True, inplace=True)"
   ]
  },
  {
   "cell_type": "code",
   "execution_count": 17,
   "id": "4005d512",
   "metadata": {},
   "outputs": [
    {
     "data": {
      "image/png": "[encoded data removed]",
      "text/plain": [
       "<Figure size 1800x600 with 1 Axes>"
      ]
     },
     "metadata": {},
     "output_type": "display_data"
    }
   ],
   "source": [
    "plot_articles_lenghts()"
   ]
  },
  {
   "cell_type": "markdown",
   "id": "daccc71f",
   "metadata": {},
   "source": [
    "### 2.3. Cleaning Text"
   ]
  },
  {
   "cell_type": "code",
   "execution_count": 18,
   "id": "f6701e6b",
   "metadata": {},
   "outputs": [
    {
     "data": {
      "text/plain": [
       "'\\nرعى وزير التعليم\\xa0د. أحمد بن محمد العيسى رئيس المؤتمر العام لمكتب التربية العربي لدول الخليج صباح أمس بمقر وزارة التعليم بالرياض احتفالية جائزة مكتب التربية العربي لدول الخليج للعام 1438 -1439هـ في دورتها التاسعة والتي فازت بها مؤسسة الملك عبدالعزيز ورجاله للموهبة والإبداع \"موهبة\" في مجال التجارب والمشروعات التعليمية.\\nوقد حضر الاحتفالية نائب وزير التعليم د. عبدالرحمن محمد العاصمي، والمدير العام لمكتب التربية العربي لدول الخليج د. علي عبدالخالق القرني، والأمين العام لمؤسسة الملك عبدالعزيز ورجاله للموهبة والإبداع د. سعود بن سعيد المتحمي، وعدد من المسؤولين في وزارة التعليم، ومكتب التربية العربي، ومؤسسة الملك عبدالعزيز ورجاله للموهبة والإبداع.\\nوفي بداية الاحتفال شاهد الحضور فيلماً مرئياً عن مراحل تأسيس الجائزة وأبرز الأسماء الفائزة (أفرادا ومؤسسات) وطرق التقديم والتحكيم الإلكتروني.\\nإثر ذلك ألقى د. القرني كلمة أوضح فيها أن الجائزة في دورتها التاسعة تأتي في إطار دعم الباحثين والمميزين في مجال الدراسات والمشروعات التربوية، والتي كانت من نصيب مؤسسة الملك عبدالعزيز ورجاله للموهبة والإبداع، ونوه القرني بحرص المكتب على تشجيع الباحثين والمبدعين من أبناء المنطقة على إثراء الساحة التربوية والتعليمية بالفكر المتطور، والتجارب الإبداعية التي من شأنها تحقيق أهداف التنمية الشاملة في الدول الأعضاء، لافتاً إلى أن المكتب قد أحاط الجائزة بعدد من الضوابط المتعلقة بالجودة والتميز وصولاً لأفضل المعايير الدقيقة للاختيار، موضحاً\\xa0أن ترشيح الفائزين يتم عن طريق لجنة أعمال الجائزة التي تضم شخصيات علمية وفكرية ومتخصصة من الدول الأعضاء.\\nوأضاف: \"وقفت الجائزة على برامج المؤسسة الفائزة في عدد من المجالات منها مبادراتها وأنشطتها في اكتشاف الموهوبين ورعايتهم، ومبادرتها في التحفيز والتمكين للموهبة والإبداع، بالإضافة إلى مبادرات الشراكة مع القطاعات الحكومية والخاصة والمنظمات غير الحكومية، ومبادرة التعرف والتوجيه التي تعنى بالموهوبين، ومبادرة الشراكة مع المدارس وتطوير أفكار الطلاب الابتكارية، وكذلك مبادرة التعلم الإلكتروني، والتوعية والاتصال، ومبادرة البحوث لتطوير سياسة الموهبة والإبداع، إلى جانب تنفيذها للعديد من البرامج والمسابقات\"\\nإلى ذلك أكد الأمين العام لمؤسسة الملك عبدالعزيز ورجاله للموهبة والإبداع \"موهبة\" د . سعود ين سعيد المتحمي على رسالة المؤسسة للاستثمار في تعليم الموهوبين، وبناء منظومة الموهبة والإبداع من خلال تعزيز معارف الطلاب بشغف العلم والمعرفة والبحوث.\\nوقال في هذا الصدد:\\xa0إن المؤسسة ما كانت لتصل لهذه المرحلة المتقدمة، وما تبعه من فوز بجائزة مكتب التربية العربي لولا دعم ومساندة وزارة التعليم وعنايتها المركزة على طلابها الموهوبين والمبدعين، مشيراً إلى أن المؤسسة أخذت على عاتقها تطوير خططها الاستراتيجية الخاصة برعاية الموهبة والإبداع والابتكار، ودعم التجارب الميدانية والمشروعات استناداً للتجارب الدولية، إذ تضمنت مبادرات المؤسسة تطوير منهجية علمية لاكتشاف الموهوبين ورعايتهم.\\nوقدم المتحمي شكره إلى مكتب التربية العربي ولجنة تحكيم الجائزة لتفحصهم جودة البرامج والمشروعات والبحوث والدراسات التي قدمتها المؤسسة وفازت من خلالها بجائزة المكتب هذا العام.\\nولفت الأمين العام لمؤسسة الملك عبدالعزيز في ختام كلمته إلى أن المؤسسة ستنتقل من مرحلة التجارب إلى مرحلة التمكين والتميز من خلال إطلاق عدد من مبادرات \"موهبة\" للدول الأعضاء في مجلس التعاون الخليجي.\\nإثر ذلك سلم راعي الحفل د. العيسى جائزة المكتب إلى الأمين العام لمؤسسة الملك عبدالعزيز ورجاله للموهبة والإبداع د.المتحمي.'"
      ]
     },
     "execution_count": 18,
     "metadata": {},
     "output_type": "execute_result"
    }
   ],
   "source": [
    "# example of an article BEFORE cleaning\n",
    "df['T_Text'][8]"
   ]
  },
  {
   "cell_type": "code",
   "execution_count": 19,
   "id": "5819852e",
   "metadata": {
    "scrolled": true
   },
   "outputs": [
    {
     "name": "stderr",
     "output_type": "stream",
     "text": [
      "<ipython-input-19-aa8a2db622b9>:5: FutureWarning: The default value of regex will change from True to False in a future version.\n",
      "  df['T_Text'] = df['T_Text'].str.replace('[^ء-ي ]', '')\n"
     ]
    }
   ],
   "source": [
    "# remove (\\n, \\xa0..)\n",
    "df['T_Text'] = df['T_Text'].apply(lambda x: unicodedata.normalize(\"NFKC\", x.replace('\\n', ' '))).astype(str)\n",
    "\n",
    "# remove (non-arabic-alphabet)\n",
    "df['T_Text'] = df['T_Text'].str.replace('[^ء-ي ]', '')\n",
    "\n",
    "# replcae (أ,آ,إ) by (ا)\n",
    "df['T_Text'] = df['T_Text'].apply(lambda x: re.sub('[أإآ]', 'ا', x))\n",
    "\n",
    "# replace (ة) by (ه)\n",
    "df['T_Text'] = df['T_Text'].apply(lambda x: re.sub('[ة]', 'ه', x))\n",
    "\n",
    "# remove multi spaces\n",
    "df['T_Text'] = df['T_Text'].apply(lambda x: re.sub(' +', ' ', x).strip())"
   ]
  },
  {
   "cell_type": "code",
   "execution_count": 20,
   "id": "816c8358",
   "metadata": {},
   "outputs": [
    {
     "data": {
      "text/plain": [
       "'رعى وزير التعليم د احمد بن محمد العيسى رئيس المؤتمر العام لمكتب التربيه العربي لدول الخليج صباح امس بمقر وزاره التعليم بالرياض احتفاليه جائزه مكتب التربيه العربي لدول الخليج للعام هـ في دورتها التاسعه والتي فازت بها مؤسسه الملك عبدالعزيز ورجاله للموهبه والابداع موهبه في مجال التجارب والمشروعات التعليميه وقد حضر الاحتفاليه نائب وزير التعليم د عبدالرحمن محمد العاصمي والمدير العام لمكتب التربيه العربي لدول الخليج د علي عبدالخالق القرني والامين العام لمؤسسه الملك عبدالعزيز ورجاله للموهبه والابداع د سعود بن سعيد المتحمي وعدد من المسؤولين في وزاره التعليم ومكتب التربيه العربي ومؤسسه الملك عبدالعزيز ورجاله للموهبه والابداع وفي بدايه الاحتفال شاهد الحضور فيلما مرئيا عن مراحل تاسيس الجائزه وابرز الاسماء الفائزه افرادا ومؤسسات وطرق التقديم والتحكيم الالكتروني اثر ذلك القى د القرني كلمه اوضح فيها ان الجائزه في دورتها التاسعه تاتي في اطار دعم الباحثين والمميزين في مجال الدراسات والمشروعات التربويه والتي كانت من نصيب مؤسسه الملك عبدالعزيز ورجاله للموهبه والابداع ونوه القرني بحرص المكتب على تشجيع الباحثين والمبدعين من ابناء المنطقه على اثراء الساحه التربويه والتعليميه بالفكر المتطور والتجارب الابداعيه التي من شانها تحقيق اهداف التنميه الشامله في الدول الاعضاء لافتا الى ان المكتب قد احاط الجائزه بعدد من الضوابط المتعلقه بالجوده والتميز وصولا لافضل المعايير الدقيقه للاختيار موضحا ان ترشيح الفائزين يتم عن طريق لجنه اعمال الجائزه التي تضم شخصيات علميه وفكريه ومتخصصه من الدول الاعضاء واضاف وقفت الجائزه على برامج المؤسسه الفائزه في عدد من المجالات منها مبادراتها وانشطتها في اكتشاف الموهوبين ورعايتهم ومبادرتها في التحفيز والتمكين للموهبه والابداع بالاضافه الى مبادرات الشراكه مع القطاعات الحكوميه والخاصه والمنظمات غير الحكوميه ومبادره التعرف والتوجيه التي تعنى بالموهوبين ومبادره الشراكه مع المدارس وتطوير افكار الطلاب الابتكاريه وكذلك مبادره التعلم الالكتروني والتوعيه والاتصال ومبادره البحوث لتطوير سياسه الموهبه والابداع الى جانب تنفيذها للعديد من البرامج والمسابقات الى ذلك اكد الامين العام لمؤسسه الملك عبدالعزيز ورجاله للموهبه والابداع موهبه د سعود ين سعيد المتحمي على رساله المؤسسه للاستثمار في تعليم الموهوبين وبناء منظومه الموهبه والابداع من خلال تعزيز معارف الطلاب بشغف العلم والمعرفه والبحوث وقال في هذا الصدد ان المؤسسه ما كانت لتصل لهذه المرحله المتقدمه وما تبعه من فوز بجائزه مكتب التربيه العربي لولا دعم ومسانده وزاره التعليم وعنايتها المركزه على طلابها الموهوبين والمبدعين مشيرا الى ان المؤسسه اخذت على عاتقها تطوير خططها الاستراتيجيه الخاصه برعايه الموهبه والابداع والابتكار ودعم التجارب الميدانيه والمشروعات استنادا للتجارب الدوليه اذ تضمنت مبادرات المؤسسه تطوير منهجيه علميه لاكتشاف الموهوبين ورعايتهم وقدم المتحمي شكره الى مكتب التربيه العربي ولجنه تحكيم الجائزه لتفحصهم جوده البرامج والمشروعات والبحوث والدراسات التي قدمتها المؤسسه وفازت من خلالها بجائزه المكتب هذا العام ولفت الامين العام لمؤسسه الملك عبدالعزيز في ختام كلمته الى ان المؤسسه ستنتقل من مرحله التجارب الى مرحله التمكين والتميز من خلال اطلاق عدد من مبادرات موهبه للدول الاعضاء في مجلس التعاون الخليجي اثر ذلك سلم راعي الحفل د العيسى جائزه المكتب الى الامين العام لمؤسسه الملك عبدالعزيز ورجاله للموهبه والابداع دالمتحمي'"
      ]
     },
     "execution_count": 20,
     "metadata": {},
     "output_type": "execute_result"
    }
   ],
   "source": [
    "# example of an article AFTER cleaning\n",
    "df['T_Text'][8]"
   ]
  },
  {
   "cell_type": "markdown",
   "id": "707404da",
   "metadata": {},
   "source": [
    "# 3. Preprocessing"
   ]
  },
  {
   "cell_type": "code",
   "execution_count": 21,
   "id": "bbfeb9bb",
   "metadata": {},
   "outputs": [],
   "source": [
    "# helper function\n",
    "def print_example_text(li):\n",
    "    ind = li[8].index('اثر')\n",
    "    print(li[8][:ind])"
   ]
  },
  {
   "cell_type": "markdown",
   "id": "88f107bc",
   "metadata": {},
   "source": [
    "### 3.1. Tokenization"
   ]
  },
  {
   "cell_type": "code",
   "execution_count": 22,
   "id": "09011696",
   "metadata": {
    "scrolled": true
   },
   "outputs": [],
   "source": [
    "# done differently using gensim\n",
    "def sent_to_words(sentences):\n",
    "    for sentence in sentences:\n",
    "        yield(gensim.utils.simple_preprocess(str(sentence), deacc=True))  # deacc=True removes punctuations\n",
    "\n",
    "data = list(df['T_Text'].tolist())\n",
    "data_words = list(sent_to_words(data))"
   ]
  },
  {
   "cell_type": "code",
   "execution_count": 23,
   "id": "0b7d8d34",
   "metadata": {},
   "outputs": [
    {
     "name": "stdout",
     "output_type": "stream",
     "text": [
      "['رعى', 'وزير', 'التعليم', 'احمد', 'بن', 'محمد', 'العيسى', 'رييس', 'الموتمر', 'العام', 'لمكتب', 'التربيه', 'العربي', 'لدول', 'الخليج', 'صباح', 'امس', 'بمقر', 'وزاره', 'التعليم', 'بالرياض', 'احتفاليه', 'جايزه', 'مكتب', 'التربيه', 'العربي', 'لدول', 'الخليج', 'للعام', 'هـ', 'في', 'دورتها', 'التاسعه', 'والتي', 'فازت', 'بها', 'موسسه', 'الملك', 'عبدالعزيز', 'ورجاله', 'للموهبه', 'والابداع', 'موهبه', 'في', 'مجال', 'التجارب', 'والمشروعات', 'التعليميه', 'وقد', 'حضر', 'الاحتفاليه', 'نايب', 'وزير', 'التعليم', 'عبدالرحمن', 'محمد', 'العاصمي', 'والمدير', 'العام', 'لمكتب', 'التربيه', 'العربي', 'لدول', 'الخليج', 'علي', 'عبدالخالق', 'القرني', 'والامين', 'العام', 'لموسسه', 'الملك', 'عبدالعزيز', 'ورجاله', 'للموهبه', 'والابداع', 'سعود', 'بن', 'سعيد', 'المتحمي', 'وعدد', 'من', 'المسوولين', 'في', 'وزاره', 'التعليم', 'ومكتب', 'التربيه', 'العربي', 'وموسسه', 'الملك', 'عبدالعزيز', 'ورجاله', 'للموهبه', 'والابداع', 'وفي', 'بدايه', 'الاحتفال', 'شاهد', 'الحضور', 'فيلما', 'مرييا', 'عن', 'مراحل', 'تاسيس', 'الجايزه', 'وابرز', 'الاسماء', 'الفايزه', 'افرادا', 'وموسسات', 'وطرق', 'التقديم', 'والتحكيم', 'الالكتروني']\n"
     ]
    }
   ],
   "source": [
    "# print\n",
    "print_example_text(data_words)"
   ]
  },
  {
   "cell_type": "markdown",
   "id": "bb1c1f9f",
   "metadata": {},
   "source": [
    "### 3.2. Stop Words Removing + Stemming"
   ]
  },
  {
   "cell_type": "code",
   "execution_count": 24,
   "id": "72ae9280",
   "metadata": {},
   "outputs": [],
   "source": [
    "stop_words = stopwords.words('arabic')\n",
    "stop_words.extend(['هـ', 'د', 'م', 'الى', 'ان', 'اذ', 'لهذه', 'قال', 'وقال', 'اكد', 'عدد', 'بعدد', 'وعدد'\n",
    "                  , 'والتي', 'بن', 'بنت', 'وقد', 'ا', 'عبر', 'خلال', 'او', 'الا', 'وان', 'اي', 'بان', 'كان'\n",
    "                  , 'كانت' ,'تم','الف','مليون', 'وفي', 'وقد','اكثر','اقل', 'انه','وانه', 'قالت', 'وقالت', 'وتم'])\n",
    "\n",
    "# stemming as experiment\n",
    "def apply_stemming_and_Stopwords(texts):\n",
    "    st = ISRIStemmer()\n",
    "    return [[st.stem(word) for word in simple_preprocess(str(doc)) if word not in stop_words] for doc in texts]\n",
    "            \n",
    "data_words_nostops = apply_stemming_and_Stopwords(data_words)\n",
    "            "
   ]
  },
  {
   "cell_type": "code",
   "execution_count": 25,
   "id": "bc4e8ac8",
   "metadata": {},
   "outputs": [
    {
     "name": "stdout",
     "output_type": "stream",
     "text": [
      "['رعى', 'وزر', 'علم', 'حمد', 'حمد', 'عيسى', 'ريس', 'ومر', 'عام', 'كتب', 'ربه', 'عرب', 'لدل', 'خلج', 'امس', 'مقر', 'وزر', 'علم', 'ريض', 'احتفاليه', 'جيز', 'كتب', 'ربه', 'عرب', 'لدل', 'خلج', 'عام', 'دور', 'تسع', 'فزت', 'وسس', 'ملك', 'عبدالعزيز', 'رجل', 'وهب', 'بدع', 'وهب', 'جال', 'جرب', 'شرع', 'علم', 'حضر', 'احتفاليه', 'نيب', 'وزر', 'علم', 'عبدالرحمن', 'حمد', 'عصم', 'دير', 'عام', 'كتب', 'ربه', 'عرب', 'لدل', 'خلج', 'علي', 'عبدالخالق', 'قرن', 'امن', 'عام', 'وسس', 'ملك', 'عبدالعزيز', 'رجل', 'وهب', 'بدع', 'سعد', 'سعد', 'تحم', 'سول', 'وزر', 'علم', 'كتب', 'ربه', 'عرب', 'وسس', 'ملك', 'عبدالعزيز', 'رجل', 'وهب', 'بدع', 'بدي', 'حفل', 'شهد', 'حضر', 'فيل', 'مري', 'رحل', 'اسس', 'جيز', 'برز', 'سمء', 'فيز', 'فرد', 'وسس', 'طرق', 'قدم', 'حكم', 'كترو']\n"
     ]
    }
   ],
   "source": [
    "# print\n",
    "print_example_text(data_words_nostops)"
   ]
  },
  {
   "cell_type": "markdown",
   "id": "1bddec38",
   "metadata": {},
   "source": [
    "### 3.3. Bigrams"
   ]
  },
  {
   "cell_type": "code",
   "execution_count": 26,
   "id": "7fff1852",
   "metadata": {},
   "outputs": [],
   "source": [
    "# Build the bigram and trigram models\n",
    "bigram = gensim.models.Phrases(data_words, min_count=5, threshold=100) # higher threshold fewer phrases.\n",
    "# trigram = gensim.models.Phrases(bigram[data_words], threshold=100)  \n",
    " \n",
    "# Faster way to get a sentence clubbed as a trigram/bigram\n",
    "bigram_mod = gensim.models.phrases.Phraser(bigram)\n",
    "# trigram_mod = gensim.models.phrases.Phraser(trigram)\n",
    "\n",
    "\n",
    "def make_bigrams(texts):\n",
    "    return [bigram_mod[doc] for doc in texts]\n",
    "\n",
    "# Form Bigrams\n",
    "data_words_bigrams = make_bigrams(data_words_nostops)\n"
   ]
  },
  {
   "cell_type": "code",
   "execution_count": 27,
   "id": "78783bf0",
   "metadata": {},
   "outputs": [
    {
     "name": "stdout",
     "output_type": "stream",
     "text": [
      "['رعى', 'وزر', 'علم', 'حمد', 'حمد', 'عيسى', 'ريس', 'ومر', 'عام', 'كتب', 'ربه', 'عرب', 'لدل', 'خلج', 'امس', 'مقر', 'وزر', 'علم', 'ريض', 'احتفاليه', 'جيز', 'كتب', 'ربه', 'عرب', 'لدل', 'خلج', 'عام', 'دور', 'تسع', 'فزت', 'وسس', 'ملك', 'عبدالعزيز', 'رجل', 'وهب', 'بدع', 'وهب', 'جال', 'جرب', 'شرع', 'علم', 'حضر', 'احتفاليه', 'نيب', 'وزر', 'علم', 'عبدالرحمن', 'حمد', 'عصم', 'دير', 'عام', 'كتب', 'ربه', 'عرب', 'لدل', 'خلج', 'علي', 'عبدالخالق', 'قرن', 'امن', 'عام', 'وسس', 'ملك', 'عبدالعزيز', 'رجل', 'وهب', 'بدع', 'سعد', 'سعد', 'تحم', 'سول', 'وزر', 'علم', 'كتب', 'ربه', 'عرب', 'وسس', 'ملك', 'عبدالعزيز', 'رجل', 'وهب', 'بدع', 'بدي', 'حفل', 'شهد', 'حضر', 'فيل', 'مري', 'رحل', 'اسس', 'جيز', 'برز', 'سمء', 'فيز', 'فرد', 'وسس', 'طرق', 'قدم', 'حكم', 'كترو']\n"
     ]
    }
   ],
   "source": [
    "# print\n",
    "print_example_text(data_words_bigrams)"
   ]
  },
  {
   "cell_type": "markdown",
   "id": "53adca17",
   "metadata": {},
   "source": [
    "# 4. Encoding (id2word)"
   ]
  },
  {
   "cell_type": "code",
   "execution_count": 28,
   "id": "020acf24",
   "metadata": {},
   "outputs": [
    {
     "name": "stdout",
     "output_type": "stream",
     "text": [
      "[[(0, 1), (1, 1), (2, 4), (3, 1), (4, 1), (5, 1), (6, 1), (7, 2), (8, 1), (9, 1), (10, 1), (11, 2), (12, 1), (13, 1), (14, 2), (15, 1), (16, 4), (17, 1), (18, 1), (19, 2), (20, 2), (21, 1), (22, 1), (23, 1), (24, 1), (25, 1), (26, 1), (27, 1), (28, 1), (29, 1), (30, 3), (31, 1), (32, 1), (33, 1), (34, 3), (35, 2), (36, 2), (37, 1), (38, 3), (39, 1), (40, 2), (41, 1), (42, 1), (43, 1), (44, 4), (45, 5), (46, 1), (47, 1), (48, 1), (49, 1), (50, 1), (51, 2), (52, 1), (53, 2), (54, 1), (55, 1), (56, 3), (57, 1), (58, 3), (59, 1), (60, 4), (61, 1), (62, 1), (63, 1), (64, 1), (65, 1), (66, 1), (67, 1), (68, 1), (69, 1), (70, 1), (71, 1), (72, 1), (73, 1), (74, 1), (75, 1), (76, 1), (77, 2), (78, 2), (79, 1), (80, 1), (81, 2), (82, 2), (83, 2), (84, 1), (85, 1), (86, 1), (87, 1), (88, 1), (89, 1), (90, 1)]]\n"
     ]
    }
   ],
   "source": [
    "# Create Dictionary\n",
    "id2word = corpora.Dictionary(data_words_bigrams)\n",
    " \n",
    "# Create Corpus\n",
    "texts = data_words_bigrams\n",
    " \n",
    "# Term Document Frequency\n",
    "corpus = [id2word.doc2bow(text) for text in texts]\n",
    " \n",
    "# View\n",
    "print(corpus[:1])"
   ]
  },
  {
   "cell_type": "code",
   "execution_count": null,
   "id": "f10af86a",
   "metadata": {},
   "outputs": [],
   "source": []
  },
  {
   "cell_type": "markdown",
   "id": "15ed2b3e",
   "metadata": {},
   "source": [
    "# 5. Topic Modeling (LDA)"
   ]
  },
  {
   "cell_type": "code",
   "execution_count": 29,
   "id": "5d30271e",
   "metadata": {},
   "outputs": [],
   "source": [
    "# Build LDA model\n",
    "lda_model = gensim.models.ldamodel.LdaModel(corpus=corpus,\n",
    "                                           id2word=id2word,\n",
    "                                           num_topics=40, \n",
    "                                           random_state=100,\n",
    "                                           update_every=1,\n",
    "                                           chunksize=10000,\n",
    "                                           passes=2,\n",
    "                                           alpha='auto',\n",
    "                                           per_word_topics=True)"
   ]
  },
  {
   "cell_type": "code",
   "execution_count": 30,
   "id": "5ebb777c",
   "metadata": {},
   "outputs": [],
   "source": [
    "# Print the Keyword in topics\n",
    "#pprint(lda_model.print_topics(40,10))\n",
    "x = lda_model.print_topics(40,10)\n",
    "terms = []\n",
    "for u in range(0,40):\n",
    "    y = lda_model.show_topic(u,10)\n",
    "    yz = [yo[0] for yo in y]\n",
    "    terms.append(yz)\n",
    "df_topics = pd.DataFrame(terms)\n",
    "df_topics = df_topics.transpose()\n",
    "# doc_lda = lda_model[corpus]"
   ]
  },
  {
   "cell_type": "code",
   "execution_count": 31,
   "id": "708f177c",
   "metadata": {},
   "outputs": [
    {
     "data": {
      "text/html": [
       "<div>\n",
       "<style scoped>\n",
       "    .dataframe tbody tr th:only-of-type {\n",
       "        vertical-align: middle;\n",
       "    }\n",
       "\n",
       "    .dataframe tbody tr th {\n",
       "        vertical-align: top;\n",
       "    }\n",
       "\n",
       "    .dataframe thead th {\n",
       "        text-align: right;\n",
       "    }\n",
       "</style>\n",
       "<table border=\"1\" class=\"dataframe\">\n",
       "  <thead>\n",
       "    <tr style=\"text-align: right;\">\n",
       "      <th></th>\n",
       "      <th>25</th>\n",
       "      <th>26</th>\n",
       "      <th>27</th>\n",
       "      <th>28</th>\n",
       "      <th>29</th>\n",
       "      <th>30</th>\n",
       "      <th>31</th>\n",
       "      <th>32</th>\n",
       "      <th>33</th>\n",
       "      <th>34</th>\n",
       "      <th>35</th>\n",
       "      <th>36</th>\n",
       "      <th>37</th>\n",
       "      <th>38</th>\n",
       "      <th>39</th>\n",
       "    </tr>\n",
       "  </thead>\n",
       "  <tbody>\n",
       "    <tr>\n",
       "      <th>0</th>\n",
       "      <td>ملك</td>\n",
       "      <td>ندي</td>\n",
       "      <td>عمل</td>\n",
       "      <td>خلف</td>\n",
       "      <td>شرك</td>\n",
       "      <td>وطن</td>\n",
       "      <td>عرب</td>\n",
       "      <td>ريس</td>\n",
       "      <td>بحر</td>\n",
       "      <td>لعب</td>\n",
       "      <td>سكن</td>\n",
       "      <td>شرك</td>\n",
       "      <td>طقه</td>\n",
       "      <td>يمن</td>\n",
       "      <td>حكم</td>\n",
       "    </tr>\n",
       "    <tr>\n",
       "      <th>1</th>\n",
       "      <td>جلس</td>\n",
       "      <td>ريض</td>\n",
       "      <td>درب</td>\n",
       "      <td>هيه</td>\n",
       "      <td>قطع</td>\n",
       "      <td>الل</td>\n",
       "      <td>دول</td>\n",
       "      <td>امر</td>\n",
       "      <td>سعد</td>\n",
       "      <td>هدف</td>\n",
       "      <td>اسر</td>\n",
       "      <td>هرج</td>\n",
       "      <td>امر</td>\n",
       "      <td>حوث</td>\n",
       "      <td>تهم</td>\n",
       "    </tr>\n",
       "    <tr>\n",
       "      <th>2</th>\n",
       "      <td>دول</td>\n",
       "      <td>تحد</td>\n",
       "      <td>رنمج</td>\n",
       "      <td>بلغ</td>\n",
       "      <td>ثمر</td>\n",
       "      <td>ملك</td>\n",
       "      <td>رهب</td>\n",
       "      <td>جلس</td>\n",
       "      <td>ملك</td>\n",
       "      <td>دور</td>\n",
       "      <td>جمع</td>\n",
       "      <td>عرض</td>\n",
       "      <td>سمه</td>\n",
       "      <td>قوت</td>\n",
       "      <td>صدر</td>\n",
       "    </tr>\n",
       "    <tr>\n",
       "      <th>3</th>\n",
       "      <td>شرك</td>\n",
       "      <td>ديه</td>\n",
       "      <td>رمج</td>\n",
       "      <td>صدر</td>\n",
       "      <td>سوق</td>\n",
       "      <td>سلم</td>\n",
       "      <td>ملك</td>\n",
       "      <td>نخب</td>\n",
       "      <td>بعث</td>\n",
       "      <td>فرق</td>\n",
       "      <td>شرع</td>\n",
       "      <td>سوق</td>\n",
       "      <td>شرع</td>\n",
       "      <td>عسكر</td>\n",
       "      <td>سجن</td>\n",
       "    </tr>\n",
       "    <tr>\n",
       "      <th>4</th>\n",
       "      <td>علم</td>\n",
       "      <td>سعد</td>\n",
       "      <td>علم</td>\n",
       "      <td>طبق</td>\n",
       "      <td>بنك</td>\n",
       "      <td>خدم</td>\n",
       "      <td>قطر</td>\n",
       "      <td>حزب</td>\n",
       "      <td>ريس</td>\n",
       "      <td>برا</td>\n",
       "      <td>وزر</td>\n",
       "      <td>ملك</td>\n",
       "      <td>حفظ</td>\n",
       "      <td>حلف</td>\n",
       "      <td>قضه</td>\n",
       "    </tr>\n",
       "    <tr>\n",
       "      <th>5</th>\n",
       "      <td>سعد</td>\n",
       "      <td>لعب</td>\n",
       "      <td>هدف</td>\n",
       "      <td>نظم</td>\n",
       "      <td>اله</td>\n",
       "      <td>حفظ</td>\n",
       "      <td>سلم</td>\n",
       "      <td>رمب</td>\n",
       "      <td>تصل</td>\n",
       "      <td>نقط</td>\n",
       "      <td>فيد</td>\n",
       "      <td>سعد</td>\n",
       "      <td>عمل</td>\n",
       "      <td>يلش</td>\n",
       "      <td>قضي</td>\n",
       "    </tr>\n",
       "    <tr>\n",
       "      <th>6</th>\n",
       "      <td>ريس</td>\n",
       "      <td>قدم</td>\n",
       "      <td>طور</td>\n",
       "      <td>رقب</td>\n",
       "      <td>عام</td>\n",
       "      <td>شرف</td>\n",
       "      <td>شعب</td>\n",
       "      <td>تحد</td>\n",
       "      <td>جمهور</td>\n",
       "      <td>قدم</td>\n",
       "      <td>عقر</td>\n",
       "      <td>علم</td>\n",
       "      <td>قصم</td>\n",
       "      <td>ليش</td>\n",
       "      <td>نفذ</td>\n",
       "    </tr>\n",
       "    <tr>\n",
       "      <th>7</th>\n",
       "      <td>تعا</td>\n",
       "      <td>دره</td>\n",
       "      <td>وطن</td>\n",
       "      <td>جره</td>\n",
       "      <td>سعد</td>\n",
       "      <td>عهد</td>\n",
       "      <td>سيس</td>\n",
       "      <td>جمع</td>\n",
       "      <td>صدق</td>\n",
       "      <td>نخب</td>\n",
       "      <td>خير</td>\n",
       "      <td>كبر</td>\n",
       "      <td>سمو</td>\n",
       "      <td>شرع</td>\n",
       "      <td>حقق</td>\n",
       "    </tr>\n",
       "    <tr>\n",
       "      <th>8</th>\n",
       "      <td>جال</td>\n",
       "      <td>ريس</td>\n",
       "      <td>شرك</td>\n",
       "      <td>قيم</td>\n",
       "      <td>عمل</td>\n",
       "      <td>حرم</td>\n",
       "      <td>وقف</td>\n",
       "      <td>ولي</td>\n",
       "      <td>فخم</td>\n",
       "      <td>سجل</td>\n",
       "      <td>رنمج</td>\n",
       "      <td>جدد</td>\n",
       "      <td>خدم</td>\n",
       "      <td>حفظ</td>\n",
       "      <td>جني</td>\n",
       "    </tr>\n",
       "    <tr>\n",
       "      <th>9</th>\n",
       "      <td>ومر</td>\n",
       "      <td>عقد</td>\n",
       "      <td>وسس</td>\n",
       "      <td>رخص</td>\n",
       "      <td>صرف</td>\n",
       "      <td>عبدالعزيز</td>\n",
       "      <td>دعم</td>\n",
       "      <td>رنس</td>\n",
       "      <td>شعب</td>\n",
       "      <td>فوز</td>\n",
       "      <td>اسك</td>\n",
       "      <td>تمر</td>\n",
       "      <td>بلد</td>\n",
       "      <td>سلح</td>\n",
       "      <td>قتل</td>\n",
       "    </tr>\n",
       "  </tbody>\n",
       "</table>\n",
       "</div>"
      ],
      "text/plain": [
       "    25   26    27   28   29         30   31   32     33   34    35   36   37  \\\n",
       "0  ملك  ندي   عمل  خلف  شرك        وطن  عرب  ريس    بحر  لعب   سكن  شرك  طقه   \n",
       "1  جلس  ريض   درب  هيه  قطع        الل  دول  امر    سعد  هدف   اسر  هرج  امر   \n",
       "2  دول  تحد  رنمج  بلغ  ثمر        ملك  رهب  جلس    ملك  دور   جمع  عرض  سمه   \n",
       "3  شرك  ديه   رمج  صدر  سوق        سلم  ملك  نخب    بعث  فرق   شرع  سوق  شرع   \n",
       "4  علم  سعد   علم  طبق  بنك        خدم  قطر  حزب    ريس  برا   وزر  ملك  حفظ   \n",
       "5  سعد  لعب   هدف  نظم  اله        حفظ  سلم  رمب    تصل  نقط   فيد  سعد  عمل   \n",
       "6  ريس  قدم   طور  رقب  عام        شرف  شعب  تحد  جمهور  قدم   عقر  علم  قصم   \n",
       "7  تعا  دره   وطن  جره  سعد        عهد  سيس  جمع    صدق  نخب   خير  كبر  سمو   \n",
       "8  جال  ريس   شرك  قيم  عمل        حرم  وقف  ولي    فخم  سجل  رنمج  جدد  خدم   \n",
       "9  ومر  عقد   وسس  رخص  صرف  عبدالعزيز  دعم  رنس    شعب  فوز   اسك  تمر  بلد   \n",
       "\n",
       "     38   39  \n",
       "0   يمن  حكم  \n",
       "1   حوث  تهم  \n",
       "2   قوت  صدر  \n",
       "3  عسكر  سجن  \n",
       "4   حلف  قضه  \n",
       "5   يلش  قضي  \n",
       "6   ليش  نفذ  \n",
       "7   شرع  حقق  \n",
       "8   حفظ  جني  \n",
       "9   سلح  قتل  "
      ]
     },
     "execution_count": 31,
     "metadata": {},
     "output_type": "execute_result"
    }
   ],
   "source": [
    "df_topics.iloc[:,25:40]"
   ]
  },
  {
   "cell_type": "markdown",
   "id": "e6a4ab20",
   "metadata": {},
   "source": [
    "# 5. Evaluation"
   ]
  },
  {
   "cell_type": "code",
   "execution_count": 32,
   "id": "aaa8b6ff",
   "metadata": {},
   "outputs": [
    {
     "name": "stdout",
     "output_type": "stream",
     "text": [
      "Perplexity:  -7.235064749084589\n",
      "Coherence Score:  0.4494841040918279\n"
     ]
    }
   ],
   "source": [
    "# Compute Perplexity\n",
    "print('Perplexity: ', lda_model.log_perplexity(corpus))  # a measure of how good the model is. lower the better.\n",
    " \n",
    "# Compute Coherence Score\n",
    "coherence_model_lda = CoherenceModel(model=lda_model, texts=data_words_bigrams, dictionary=id2word, coherence='c_v')\n",
    "coherence_lda = coherence_model_lda.get_coherence()\n",
    "print('Coherence Score: ', coherence_lda)"
   ]
  },
  {
   "cell_type": "markdown",
   "id": "1a870fb7",
   "metadata": {},
   "source": [
    "# 6. Finding Optimal Number of Topics"
   ]
  },
  {
   "cell_type": "code",
   "execution_count": 33,
   "id": "382c529a",
   "metadata": {},
   "outputs": [],
   "source": [
    "\n",
    "def compute_coherence_values(dictionary, corpus, texts, limit, start=2, step=3):\n",
    "    \"\"\"\n",
    "    Compute c_v coherence for various number of topics\n",
    "    Parameters:\n",
    "    ----------\n",
    "    dictionary : Gensim dictionary\n",
    "    corpus : Gensim corpus\n",
    "    texts : List of input texts\n",
    "    limit : Max num of topics\n",
    "    Returns:\n",
    "    -------\n",
    "    model_list : List of LDA topic models\n",
    "    coherence_values : Coherence values corresponding to the LDA model with respective number of topics\n",
    "    \"\"\"\n",
    "    \n",
    "    coherence_values = []\n",
    "    model_list = []\n",
    "    for num_topics in range(start, limit, step):\n",
    "        model = gensim.models.ldamodel.LdaModel(corpus=corpus,\n",
    "                                           id2word=id2word,\n",
    "                                           num_topics=num_topics, \n",
    "                                           random_state=100,\n",
    "                                           update_every=1,\n",
    "                                           chunksize=10000,\n",
    "                                           passes=2,\n",
    "                                           alpha='auto',\n",
    "                                           per_word_topics=False)\n",
    "        #model = gensim.models.wrappers.LdaMallet(mallet_path, corpus=corpus, num_topics=num_topics, id2word=id2word)\n",
    "        model_list.append(model)\n",
    "        coherencemodel = CoherenceModel(model=model, texts=texts, dictionary=dictionary, coherence='c_v')\n",
    "        coherence_values.append(coherencemodel.get_coherence())\n",
    " \n",
    "    return model_list, coherence_values"
   ]
  },
  {
   "cell_type": "code",
   "execution_count": 34,
   "id": "89accfb7",
   "metadata": {},
   "outputs": [],
   "source": [
    "# Can take a long time to run.\n",
    "model_list, coherence_values = compute_coherence_values(dictionary=id2word, corpus=corpus, texts=data_words_bigrams, start=2, limit=50, step=6)"
   ]
  },
  {
   "cell_type": "code",
   "execution_count": 35,
   "id": "743bf3df",
   "metadata": {},
   "outputs": [
    {
     "data": {
      "image/png": "[encoded data removed]",
      "text/plain": [
       "<Figure size 1800x600 with 1 Axes>"
      ]
     },
     "metadata": {},
     "output_type": "display_data"
    }
   ],
   "source": [
    "# Show graph\n",
    "x = range(2, 50, 6)\n",
    "sns.lineplot(x=x, y=coherence_values)\n",
    "plt.xlabel(\"Num Topics\")\n",
    "plt.ylabel('Coherence Score')\n",
    "plt.xticks(x)\n",
    "plt.show()"
   ]
  },
  {
   "cell_type": "markdown",
   "id": "a5406a29",
   "metadata": {},
   "source": [
    "# 7. Merging Genres, Articles Titles with LDA Results"
   ]
  },
  {
   "cell_type": "code",
   "execution_count": 36,
   "id": "7a514b34",
   "metadata": {},
   "outputs": [],
   "source": [
    "# # Store the documents' topic vectors in a list so we can take a peak\n",
    "# lda_docs = [doc for doc in lda_model[corpus]]"
   ]
  },
  {
   "cell_type": "code",
   "execution_count": 37,
   "id": "89e64d08",
   "metadata": {},
   "outputs": [],
   "source": [
    "# # get a dataframe with topic A_ID to merge it\n",
    "# df6 = pd.DataFrame(columns=['ArticleID','TopicID','Perc'], dtype='object')\n",
    "# def func(x):\n",
    "#     #pass\n",
    "#     #print(x['index'])\n",
    "#     global df6\n",
    "#     for x1 in x['D']:\n",
    "#         #print(x1[1])\n",
    "#         #df6.iloc[-1] = [0,x1[0],x1[1]]\n",
    "#         df6 = df6.append(pd.DataFrame(columns=['ArticleID','TopicID','Perc'], data=[[x['index'], x1[0], x1[1]]]))\n",
    "#         #df6.index = df6.index+1\n",
    "\n",
    "\n",
    "# df5 = pd.DataFrame(columns=['D'], data=zip(lda_docs))\n",
    "# #a = np.array(lda_docs[2])\n",
    "# #a[:,1].max()\n",
    "\n",
    "# #df5['Perc'] = df5['D'].apply(lambda x:list(zip(x))[0][0][1])\n",
    "# df5 = df5.reset_index()\n",
    "# df5.apply(lambda x: func(x), axis=1)\n",
    "\n",
    "# df5.head()\n",
    "# df6.head()"
   ]
  },
  {
   "cell_type": "code",
   "execution_count": 38,
   "id": "c712b435",
   "metadata": {},
   "outputs": [],
   "source": [
    "# # merge article, topic id, and article title, genre in original frame\n",
    "# df7 = pd.merge(df6,df,how='left',left_on='ArticleID',right_on='index')\n",
    "# df7[df7['TopicID']==9][['ArticleID','TopicID','Perc','A_Cat','A_Title1','A_Title2','T_Text']]\n",
    "\n",
    "\n",
    "# #df7.head()\n",
    "# #df7.to_csv(\"articles_Topics1.csv\",encoding='utf-8-sig')\n",
    "# df7.shape"
   ]
  },
  {
   "cell_type": "code",
   "execution_count": null,
   "id": "cef376dd",
   "metadata": {},
   "outputs": [],
   "source": []
  }
 ],
 "metadata": {
  "kernelspec": {
   "display_name": "Python 3",
   "language": "python",
   "name": "python3"
  },
  "language_info": {
   "codemirror_mode": {
    "name": "ipython",
    "version": 3
   },
   "file_extension": ".py",
   "mimetype": "text/x-python",
   "name": "python",
   "nbconvert_exporter": "python",
   "pygments_lexer": "ipython3",
   "version": "3.8.8"
  }
 },
 "nbformat": 4,
 "nbformat_minor": 5
}
