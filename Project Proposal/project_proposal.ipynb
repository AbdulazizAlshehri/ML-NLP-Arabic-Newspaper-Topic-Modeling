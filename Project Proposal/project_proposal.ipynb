{
 "cells": [
  {
   "cell_type": "markdown",
   "id": "c844b01f",
   "metadata": {},
   "source": [
    "# <center>NLP: Topic Modeling for Riyadh Newspaper Articles</center>\n"
   ]
  },
  {
   "cell_type": "markdown",
   "id": "07fb274b",
   "metadata": {},
   "source": [
    "\n",
    "**DATA**: We are planning to use our previously **scraped** data from the Riyadh Newspaper website **in Arabic**, ~3GB, plus some additional data (MetaData) that could add a meaningful sense to our project, see [Riyadh Newspaper website](http://www.alriyadh.com/1814297) to understand how we scraped the data.\n",
    "\n",
    "**EXPECTED OUTPUT**: At the end of this project we expect to be done NLP **Topic Modeling** on Riyadh Newspaper articles, and all it's required preproccesing steps in addition to approperiate visualization.\n",
    "\n",
    "**BONUS TASKS**: \n",
    "- Scraping ~3GB Data. \n",
    "- Using SQL Database for data storage. \n",
    "- As a challenge, we used data written in Arabic."
   ]
  },
  {
   "cell_type": "code",
   "execution_count": 1,
   "id": "b784dce3",
   "metadata": {},
   "outputs": [],
   "source": [
    "import pandas  as pd\n",
    "import numpy as np\n",
    "import pyodbc\n",
    "import nltk"
   ]
  },
  {
   "cell_type": "markdown",
   "id": "7f9688d7",
   "metadata": {},
   "source": [
    "### reading from Database"
   ]
  },
  {
   "cell_type": "code",
   "execution_count": 2,
   "id": "5cc346ed",
   "metadata": {},
   "outputs": [],
   "source": [
    "# server = 't5.database.windows.net'\n",
    "# database = 'T5'\n",
    "# username = 't5'\n",
    "# password = 'My404Data'\n",
    "\n",
    "# # dfs2.columns=dfs2.columns.str.strip()\n",
    "\n",
    "# cnxn = pyodbc.connect('DRIVER={SQL Server};SERVER='+server+';DATABASE='+database+';UID='+username+';PWD='+ password)\n",
    "# cursor = cnxn.cursor()"
   ]
  },
  {
   "cell_type": "code",
   "execution_count": 3,
   "id": "4d0b5f07",
   "metadata": {},
   "outputs": [],
   "source": [
    "# df= pd.read_sql(\"select * from articles\",cnxn)\n",
    "# df\n",
    "# df.to_csv(\"articles.csv\", encoding='utf-8-sig')"
   ]
  },
  {
   "cell_type": "code",
   "execution_count": 4,
   "id": "c0c1c477",
   "metadata": {},
   "outputs": [],
   "source": [
    "# df2= pd.read_sql(\"select top 10000 * from texts\",cnxn)\n",
    "# df2\n",
    "# df2.to_csv(\"texts.csv\",encoding='utf-8-sig')"
   ]
  },
  {
   "cell_type": "markdown",
   "id": "7cb58896",
   "metadata": {},
   "source": [
    "### reading CSVs files"
   ]
  },
  {
   "cell_type": "code",
   "execution_count": 5,
   "id": "b3788812",
   "metadata": {},
   "outputs": [],
   "source": [
    "df_articles = pd.read_csv('articles.csv')"
   ]
  },
  {
   "cell_type": "code",
   "execution_count": 6,
   "id": "24a3bb22",
   "metadata": {},
   "outputs": [],
   "source": [
    "df_texts = pd.read_csv('texts.csv')"
   ]
  },
  {
   "cell_type": "markdown",
   "id": "5e220e62",
   "metadata": {},
   "source": [
    "### preveiw"
   ]
  },
  {
   "cell_type": "code",
   "execution_count": 7,
   "id": "db77d485",
   "metadata": {},
   "outputs": [
    {
     "data": {
      "text/html": [
       "<div>\n",
       "<style scoped>\n",
       "    .dataframe tbody tr th:only-of-type {\n",
       "        vertical-align: middle;\n",
       "    }\n",
       "\n",
       "    .dataframe tbody tr th {\n",
       "        vertical-align: top;\n",
       "    }\n",
       "\n",
       "    .dataframe thead th {\n",
       "        text-align: right;\n",
       "    }\n",
       "</style>\n",
       "<table border=\"1\" class=\"dataframe\">\n",
       "  <thead>\n",
       "    <tr style=\"text-align: right;\">\n",
       "      <th></th>\n",
       "      <th>Unnamed: 0</th>\n",
       "      <th>A_ID</th>\n",
       "      <th>A_Link</th>\n",
       "      <th>A_LinkNum</th>\n",
       "      <th>A_Timestr</th>\n",
       "      <th>A_Cat</th>\n",
       "      <th>A_Auth</th>\n",
       "      <th>A_Title1</th>\n",
       "      <th>A_Title2</th>\n",
       "      <th>A_Paragraphs</th>\n",
       "      <th>A_Words</th>\n",
       "      <th>A_Characters</th>\n",
       "    </tr>\n",
       "  </thead>\n",
       "  <tbody>\n",
       "    <tr>\n",
       "      <th>0</th>\n",
       "      <td>0</td>\n",
       "      <td>1</td>\n",
       "      <td>http://www.alriyadh.com/1814297</td>\n",
       "      <td>1814297</td>\n",
       "      <td>&amp;nbsp; \\n\\t\\t\\t\\t\\t\\t\\n\\t\\t\\t\\t\\t\\t\\t\\t\\t\\t\\t\\...</td>\n",
       "      <td>المحليات</td>\n",
       "      <td>الرياض - \"الرياض\"</td>\n",
       "      <td>إلى ما بعد اجتماع مجموعة أوبك بلس</td>\n",
       "      <td>السعودية تؤجل الإعلان عن أسعار الخام لشهر مايو</td>\n",
       "      <td>8</td>\n",
       "      <td>339</td>\n",
       "      <td>1962</td>\n",
       "    </tr>\n",
       "    <tr>\n",
       "      <th>1</th>\n",
       "      <td>1</td>\n",
       "      <td>2</td>\n",
       "      <td>http://www.alriyadh.com/1814297</td>\n",
       "      <td>1814297</td>\n",
       "      <td>&amp;nbsp; \\n\\t\\t\\t\\t\\t\\t\\n\\t\\t\\t\\t\\t\\t\\t\\t\\t\\t\\t\\...</td>\n",
       "      <td>المحليات</td>\n",
       "      <td>الرياض - \"الرياض\"</td>\n",
       "      <td>إلى ما بعد اجتماع مجموعة أوبك بلس</td>\n",
       "      <td>السعودية تؤجل الإعلان عن أسعار الخام لشهر مايو</td>\n",
       "      <td>8</td>\n",
       "      <td>339</td>\n",
       "      <td>1962</td>\n",
       "    </tr>\n",
       "    <tr>\n",
       "      <th>2</th>\n",
       "      <td>2</td>\n",
       "      <td>3</td>\n",
       "      <td>http://www.alriyadh.com/1814296</td>\n",
       "      <td>1814296</td>\n",
       "      <td>&amp;nbsp; \\n\\t\\t\\t\\t\\t\\t\\n\\t\\t\\t\\t\\t\\t\\t\\t\\t\\t\\t\\...</td>\n",
       "      <td>المحليات</td>\n",
       "      <td>وادي الدواسر - سعود آل مسيب</td>\n",
       "      <td>NaN</td>\n",
       "      <td>تعليم وادي الدواسر يبدأ المرحلة الثانية من خطة...</td>\n",
       "      <td>3</td>\n",
       "      <td>183</td>\n",
       "      <td>1162</td>\n",
       "    </tr>\n",
       "    <tr>\n",
       "      <th>3</th>\n",
       "      <td>3</td>\n",
       "      <td>4</td>\n",
       "      <td>http://www.alriyadh.com/1814296</td>\n",
       "      <td>1814296</td>\n",
       "      <td>&amp;nbsp; \\n\\t\\t\\t\\t\\t\\t\\n\\t\\t\\t\\t\\t\\t\\t\\t\\t\\t\\t\\...</td>\n",
       "      <td>المحليات</td>\n",
       "      <td>وادي الدواسر - سعود آل مسيب</td>\n",
       "      <td>NaN</td>\n",
       "      <td>تعليم وادي الدواسر يبدأ المرحلة الثانية من خطة...</td>\n",
       "      <td>3</td>\n",
       "      <td>183</td>\n",
       "      <td>1162</td>\n",
       "    </tr>\n",
       "    <tr>\n",
       "      <th>4</th>\n",
       "      <td>4</td>\n",
       "      <td>5</td>\n",
       "      <td>http://www.alriyadh.com/1814295</td>\n",
       "      <td>1814295</td>\n",
       "      <td>&amp;nbsp; \\n\\t\\t\\t\\t\\t\\t\\n\\t\\t\\t\\t\\t\\t\\t\\t\\t\\t\\t\\...</td>\n",
       "      <td>المحليات</td>\n",
       "      <td>الرياض - محمد الحيدر</td>\n",
       "      <td>من برنامج إعانة الباحثين عن عمل</td>\n",
       "      <td>\"هدف\" يودع 446 مليون ريال في حسابات المستفيدين</td>\n",
       "      <td>4</td>\n",
       "      <td>190</td>\n",
       "      <td>1148</td>\n",
       "    </tr>\n",
       "  </tbody>\n",
       "</table>\n",
       "</div>"
      ],
      "text/plain": [
       "   Unnamed: 0  A_ID                           A_Link  A_LinkNum  \\\n",
       "0           0     1  http://www.alriyadh.com/1814297    1814297   \n",
       "1           1     2  http://www.alriyadh.com/1814297    1814297   \n",
       "2           2     3  http://www.alriyadh.com/1814296    1814296   \n",
       "3           3     4  http://www.alriyadh.com/1814296    1814296   \n",
       "4           4     5  http://www.alriyadh.com/1814295    1814295   \n",
       "\n",
       "                                           A_Timestr     A_Cat  \\\n",
       "0  &nbsp; \\n\\t\\t\\t\\t\\t\\t\\n\\t\\t\\t\\t\\t\\t\\t\\t\\t\\t\\t\\...  المحليات   \n",
       "1  &nbsp; \\n\\t\\t\\t\\t\\t\\t\\n\\t\\t\\t\\t\\t\\t\\t\\t\\t\\t\\t\\...  المحليات   \n",
       "2  &nbsp; \\n\\t\\t\\t\\t\\t\\t\\n\\t\\t\\t\\t\\t\\t\\t\\t\\t\\t\\t\\...  المحليات   \n",
       "3  &nbsp; \\n\\t\\t\\t\\t\\t\\t\\n\\t\\t\\t\\t\\t\\t\\t\\t\\t\\t\\t\\...  المحليات   \n",
       "4  &nbsp; \\n\\t\\t\\t\\t\\t\\t\\n\\t\\t\\t\\t\\t\\t\\t\\t\\t\\t\\t\\...  المحليات   \n",
       "\n",
       "                        A_Auth                           A_Title1  \\\n",
       "0            الرياض - \"الرياض\"  إلى ما بعد اجتماع مجموعة أوبك بلس   \n",
       "1            الرياض - \"الرياض\"  إلى ما بعد اجتماع مجموعة أوبك بلس   \n",
       "2  وادي الدواسر - سعود آل مسيب                                NaN   \n",
       "3  وادي الدواسر - سعود آل مسيب                                NaN   \n",
       "4         الرياض - محمد الحيدر    من برنامج إعانة الباحثين عن عمل   \n",
       "\n",
       "                                            A_Title2  A_Paragraphs  A_Words  \\\n",
       "0     السعودية تؤجل الإعلان عن أسعار الخام لشهر مايو             8      339   \n",
       "1     السعودية تؤجل الإعلان عن أسعار الخام لشهر مايو             8      339   \n",
       "2  تعليم وادي الدواسر يبدأ المرحلة الثانية من خطة...             3      183   \n",
       "3  تعليم وادي الدواسر يبدأ المرحلة الثانية من خطة...             3      183   \n",
       "4     \"هدف\" يودع 446 مليون ريال في حسابات المستفيدين             4      190   \n",
       "\n",
       "   A_Characters  \n",
       "0          1962  \n",
       "1          1962  \n",
       "2          1162  \n",
       "3          1162  \n",
       "4          1148  "
      ]
     },
     "execution_count": 7,
     "metadata": {},
     "output_type": "execute_result"
    }
   ],
   "source": [
    "df_articles.head(5)"
   ]
  },
  {
   "cell_type": "code",
   "execution_count": 8,
   "id": "0ce35a7f",
   "metadata": {},
   "outputs": [
    {
     "data": {
      "text/html": [
       "<div>\n",
       "<style scoped>\n",
       "    .dataframe tbody tr th:only-of-type {\n",
       "        vertical-align: middle;\n",
       "    }\n",
       "\n",
       "    .dataframe tbody tr th {\n",
       "        vertical-align: top;\n",
       "    }\n",
       "\n",
       "    .dataframe thead th {\n",
       "        text-align: right;\n",
       "    }\n",
       "</style>\n",
       "<table border=\"1\" class=\"dataframe\">\n",
       "  <thead>\n",
       "    <tr style=\"text-align: right;\">\n",
       "      <th></th>\n",
       "      <th>Unnamed: 0</th>\n",
       "      <th>T_ID</th>\n",
       "      <th>T_AID</th>\n",
       "      <th>T_Text</th>\n",
       "    </tr>\n",
       "  </thead>\n",
       "  <tbody>\n",
       "    <tr>\n",
       "      <th>0</th>\n",
       "      <td>0</td>\n",
       "      <td>87160</td>\n",
       "      <td>174309</td>\n",
       "      <td>\\nعلى الرغم من التحذيرات الشديدة والمتكررة الت...</td>\n",
       "    </tr>\n",
       "    <tr>\n",
       "      <th>1</th>\n",
       "      <td>1</td>\n",
       "      <td>87164</td>\n",
       "      <td>174317</td>\n",
       "      <td>\\nأدى محافظ ضمد عبدالله خالد البراق عقب صلاة ع...</td>\n",
       "    </tr>\n",
       "    <tr>\n",
       "      <th>2</th>\n",
       "      <td>2</td>\n",
       "      <td>87165</td>\n",
       "      <td>174319</td>\n",
       "      <td>\\nرفع رئيس مجلس إدارة الهيئة العامة للولاية عل...</td>\n",
       "    </tr>\n",
       "    <tr>\n",
       "      <th>3</th>\n",
       "      <td>3</td>\n",
       "      <td>87168</td>\n",
       "      <td>174325</td>\n",
       "      <td>\\nوجه صاحب السمو الملكي الأمير د. فيصل بن مشعل...</td>\n",
       "    </tr>\n",
       "    <tr>\n",
       "      <th>4</th>\n",
       "      <td>4</td>\n",
       "      <td>87169</td>\n",
       "      <td>174327</td>\n",
       "      <td>\\nاستقبل صاحب السمو الملكي الأمير فيصل بن خالد...</td>\n",
       "    </tr>\n",
       "  </tbody>\n",
       "</table>\n",
       "</div>"
      ],
      "text/plain": [
       "   Unnamed: 0   T_ID   T_AID  \\\n",
       "0           0  87160  174309   \n",
       "1           1  87164  174317   \n",
       "2           2  87165  174319   \n",
       "3           3  87168  174325   \n",
       "4           4  87169  174327   \n",
       "\n",
       "                                              T_Text  \n",
       "0  \\nعلى الرغم من التحذيرات الشديدة والمتكررة الت...  \n",
       "1  \\nأدى محافظ ضمد عبدالله خالد البراق عقب صلاة ع...  \n",
       "2  \\nرفع رئيس مجلس إدارة الهيئة العامة للولاية عل...  \n",
       "3  \\nوجه صاحب السمو الملكي الأمير د. فيصل بن مشعل...  \n",
       "4  \\nاستقبل صاحب السمو الملكي الأمير فيصل بن خالد...  "
      ]
     },
     "execution_count": 8,
     "metadata": {},
     "output_type": "execute_result"
    }
   ],
   "source": [
    "df_texts.head(5)"
   ]
  },
  {
   "cell_type": "markdown",
   "id": "7f3064a0",
   "metadata": {},
   "source": [
    "# Article Example"
   ]
  },
  {
   "cell_type": "code",
   "execution_count": 9,
   "id": "ef41aa16",
   "metadata": {},
   "outputs": [
    {
     "data": {
      "text/plain": [
       "'\\nعلى الرغم من التحذيرات الشديدة والمتكررة التي يوجهها الدفاع المدني للمواطنين قبل وبعد هطول الأمطار لتوخي الحذر والابتعاد عن أماكن تجمعات السيول وبطون الأودية ورغم ما تتناقله وسائل التواصل الاجتماعي من مقاطع مؤلمة ومفجعة لأشخاص جرفتهم السيول بمركباتهم ولقوا حتفهم بأبشع الصور وأسوأء المناظر، إلاّ أنه مازال هناك الكثير من المراهقين ومن فاقدي البصيرة المتهورين تستهويهم المغامرات المهلكة داخل بطون الأودية والأماكن التي غمرتها مياه الأمطار، غير مبالين بخطورة تلك الأفعال وشناعة تلك التصرفات العبثية، التي ربما يفقدون حياتهم بسببها في أدنى لحظة.\\nوفي كل موسم من مواسم الأمطار تتجدد ظاهرة التهور والمغامرات في السيول وتتجدد معها معاناة رجال الدفاع المدني الذين مهما كان لديهم من إمكانات لن يستطيعوا تغطية جزء مساحته مئات الكيلومترات من براري المملكة الشاسعة التي تتنوع فيها التضاريس المعقدة.\\nماذا بعد\\nوتداولت شبكات التواصل الاجتماعي مقاطع فيديوهات لبعض المتهورين وهم يقتحمون الأودية مع سبق الإصرار، غير مبالين بتحذيرات الدفاع المدني وغير مبالين بالأشخاص الموجودين بتلك المواقع الذين حاولوا ثنيهم عن رأيهم ومنعهم من المخاطرة بأرواحهم، وكانت النتائج الواضحة في المقاطع كارثية.\\nأحد المقاطع الذي استفز الدفاع المدني قاموا بوضعه في حسابهم في تويتر تحت هاشتاق #ماذا_بعد وطالبوا من المواطنين المشاركة في التعليق على الفيديو من أجل المساهمة في التوعية، بعض المغردين انتقد بلطف وطالب باستحداث نظام العقوبات لردع المتهورين، والبعض منهم هاجم المغامرين في السيول وقالوا: إنهم لا يستحقون الاهتمام بهم، وطالبوا من الدفاع المدني ألا يهرع لنجدتهم.\\nالمغرد عاصم الرميح قال: أخي المتهور إذا كان لك محبون فلا تفجعهم، وإذا لم يكن لك محبون فلا تشغل الناس بهمك، وتذكر قول الله تعالى: «ولا تلقوا بأيديكم إلى التهلكة».\\nوعلق طلال العتيبي قائلاً: ما يفعله بعض الشباب من تحدي السيول بمركباتهم واستعراض قيادتهم المتهورة في الأودية وتجمعات الأمطار لا ينم إلاّ عن تدني مستوى الوعي لديهم ورعونة التفكير وسلبية التصرف ومخالفة المنطق.\\nسلوك خطير\\nوأكد د.زيد بن عبدالله بن دريس –باحث في علم الجريمة- على أن من يتجاوز تعليمات وتحذيرات الدفاع المدني فقد قام بسلوك إجرامي خطير يؤدي بالنهاية إلى التهلكة لنفسه وللآخرين، مضيفاً أنه يجب على الجهات المختصة وضع حد لهذا السلوك من أجل ردعه، حيث إن السلوك الإنساني لا يرتدع أحياناً إلاّ بعقوبات سريعة وفعالة تجمح من سريان هذا السلوك المنحرف أو الإجرامي، وهذا ما تم مشاهدته أثناء هطول الأمطار وارتفاع مجرى السيول إلى مستويات عالية جداً تفوق المركبة أو الفرد نفسه، مشيراً إلى أنه لا توجد حتى الآن أي عقوبة صريحة تجاه من يقوم بمثل تلك الأفعال، وبالتالي استمرار ما نشاهده من استهتار من قبل بعض الأشخاص بحياتهم وحياة الآخرين وتدمير الممتلكات الشخصية من أجل المغامرة في مواقع السيول، مؤكداً على أن إقرار الغرامات المالية والسجن يُعد مطلباً أساسياً لمثل هذه التصرفات.\\nحيطة وحذر\\nوقال الشيخ الدكتور سعد السبر -إمام وخطيب جامع الجارالله بالرياض-: إن الله سبحانه وتعالى خلق الخلق لعبادته وجعل أرواحهم أمانة بين أيديهم ليس لهم حق التصرف عليها بالاعتداء\\xa0بالقتل أو التعذيب أو الاعتداء على العقل بالخمور والمسكرات، مؤكداً على أن الشريعة جاءت بحفظ الضروريات الخمس\\xa0الدين والنفس والعقل\\xa0والمال والعرض، ومنع الاعتداء عليها بأي طريقة كانت أو بأي سبب مهما كان إلاّ بالحق الشرعي\\xa0بإقامة الحدود\\xa0والقصاص\\xa0في النفس بشرط أن يُقيمها الحاكم أو نائبه فقط، ذاكراً إننا نشاهد البعض عند نزول الأمطار يتوجه إلى الصحراء ويتتبع المطر\\xa0ومواقع نزوله ويتجول في الطرقات مع ما تقوم به الأجهزة الأمنية من تنبيه وتحذير للجميع من عدم الخروج وقت الأمطار، والانتباه وأخذ الحيطة والحذر، مبيناً أننا نسمع أخباراً\\xa0عن حوادث المطر إمّا الوفاة، أو الإصابة بإعاقات، أو غرق للسيارات،\\xa0أو غرق للبعض، فهذه مخالفات واعتداء على النفس وتعريضها للخطر والقتل.\\nوأضاف: قال الله تعالى: «وَلا تَقْتُلُوا أَنْفُسَكُمْ إِنَّ اللَّهَ كانَ بِكُمْ رَحِيماً»، ومع كل هذه المخالفات في هذه التصرفات ستدخل الأحزان والهموم على الأسرة والمجتمع، ناصحاً أنه يجب على الشاب\\xa0الحذر واتباع التعليمات والمحافظة على نفسه\\xa0وممتلكاته ووطنه وأهليه.\\n\\n\\n\\nالدفاع المدني يبذل جهوداً في إنقاذ الغارقين'"
      ]
     },
     "execution_count": 9,
     "metadata": {},
     "output_type": "execute_result"
    }
   ],
   "source": [
    "df_texts['T_Text'][0]"
   ]
  }
 ],
 "metadata": {
  "kernelspec": {
   "display_name": "Python 3",
   "language": "python",
   "name": "python3"
  },
  "language_info": {
   "codemirror_mode": {
    "name": "ipython",
    "version": 3
   },
   "file_extension": ".py",
   "mimetype": "text/x-python",
   "name": "python",
   "nbconvert_exporter": "python",
   "pygments_lexer": "ipython3",
   "version": "3.8.8"
  }
 },
 "nbformat": 4,
 "nbformat_minor": 5
}
